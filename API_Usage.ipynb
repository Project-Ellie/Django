{
 "cells": [
  {
   "cell_type": "code",
   "execution_count": 1,
   "metadata": {
    "pycharm": {
     "is_executing": false
    }
   },
   "outputs": [],
   "source": [
    "import requests"
   ]
  },
  {
   "cell_type": "markdown",
   "metadata": {},
   "source": [
    "### Register as new ***User***"
   ]
  },
  {
   "cell_type": "code",
   "execution_count": 2,
   "metadata": {
    "pycharm": {
     "is_executing": false
    }
   },
   "outputs": [],
   "source": [
    "body={\n",
    "    'username': 'blabber',\n",
    "    'password': 'blabber',\n",
    "    'email': 'a@g.com'\n",
    "}"
   ]
  },
  {
   "cell_type": "code",
   "execution_count": 3,
   "metadata": {
    "pycharm": {
     "is_executing": false
    }
   },
   "outputs": [],
   "source": [
    "response = requests.post(url='http://localhost:8000/api/v1/users/', json=body)"
   ]
  },
  {
   "cell_type": "code",
   "execution_count": 4,
   "metadata": {
    "pycharm": {
     "is_executing": false
    }
   },
   "outputs": [
    {
     "data": {
      "text/plain": "{'username': ['A user with that username already exists.']}"
     },
     "metadata": {},
     "output_type": "execute_result",
     "execution_count": 4
    }
   ],
   "source": [
    "response.json()"
   ]
  },
  {
   "cell_type": "markdown",
   "metadata": {},
   "source": [
    "### Define an API"
   ]
  },
  {
   "cell_type": "code",
   "execution_count": 2,
   "metadata": {},
   "outputs": [],
   "source": [
    "class ContractAPI:\n",
    "    def __init__(self, base_url):\n",
    "        self.base_url = base_url\n",
    "        \n",
    "    def login(self, username, password):\n",
    "        \n",
    "        body={\n",
    "            'username': username,\n",
    "            'password': password\n",
    "        }\n",
    "        url = self.base_url + \"/token/\"\n",
    "        self.tokens = requests.post(url, json=body).json()\n",
    "        \n",
    "    def get_books(self):\n",
    "        url = self.base_url + \"/books/\"\n",
    "        self.headers = {'Authorization': \"Bearer %s\" % self.tokens['access']}\n",
    "        books = requests.get(url, headers=self.headers)\n",
    "        return books.json()\n",
    "    \n",
    "    def create_contractual_party(self, legal_entity, repeat=0):\n",
    "        body = {'legal_entity': legal_entity}\n",
    "        url = self.base_url + \"/contractual_parties/\"\n",
    "        response = requests.post(url, json=body, headers=self.headers)\n",
    "        if response.status_code == 401:\n",
    "            self.refresh()\n",
    "            print ('Token expired and refreshed. Please try again.')\n",
    "        else:\n",
    "            return response.json()\n",
    "\n",
    "    def create_contract(self, other_party_id, other_party_role):\n",
    "        body = {\n",
    "            'other_party_role': other_party_role,\n",
    "            'other_party': other_party_id,\n",
    "        }        \n",
    "        url = self.base_url + \"/contracts/\"\n",
    "        response = requests.post(url, json=body, headers=self.headers)\n",
    "        if response.status_code == 401:\n",
    "            self.refresh()\n",
    "            print ('Token expired and refreshed. Please try again.')\n",
    "            return response.json()\n",
    "        \n",
    "        if response.status_code != 201:\n",
    "            print(response)\n",
    "            print(response.json())\n",
    "            return response\n",
    "        else:\n",
    "            return response.json()\n",
    "        \n",
    "\n",
    "    def refresh(self):\n",
    "        body={'refresh': self.tokens['refresh']}\n",
    "        url = self.base_url + \"/token/refresh/\"\n",
    "        response = requests.post(url, json=body)\n",
    "        self.tokens['access'] = response.json()['access']\n",
    "        "
   ]
  },
  {
   "cell_type": "code",
   "execution_count": 3,
   "metadata": {},
   "outputs": [],
   "source": [
    "u_api = ContractAPI('http://localhost:8000/api/v1')\n",
    "a_api = ContractAPI('http://localhost:8000/api/v1')\n",
    "\n",
    "u_api.login('blubber', 'blubber')\n",
    "a_api.login('blabber', 'blabber')"
   ]
  },
  {
   "cell_type": "code",
   "execution_count": 4,
   "metadata": {},
   "outputs": [
    {
     "data": {
      "text/plain": [
       "[{'title': 'When doves fly',\n",
       "  'subtitle': \"it's raining shit\",\n",
       "  'author': 'Bernhardt Giersche',\n",
       "  'isbn': '1234567812345',\n",
       "  'price': '39.90'}]"
      ]
     },
     "execution_count": 4,
     "metadata": {},
     "output_type": "execute_result"
    }
   ],
   "source": [
    "u_api.get_books()"
   ]
  },
  {
   "cell_type": "code",
   "execution_count": 5,
   "metadata": {},
   "outputs": [
    {
     "data": {
      "text/plain": [
       "[{'title': 'When doves fly',\n",
       "  'subtitle': \"it's raining shit\",\n",
       "  'author': 'Bernhardt Giersche',\n",
       "  'isbn': '1234567812345',\n",
       "  'price': '39.90'}]"
      ]
     },
     "execution_count": 5,
     "metadata": {},
     "output_type": "execute_result"
    }
   ],
   "source": [
    "a_api.get_books()"
   ]
  },
  {
   "cell_type": "markdown",
   "metadata": {},
   "source": [
    "### Create a ***ContractualParty*** entry"
   ]
  },
  {
   "cell_type": "code",
   "execution_count": 6,
   "metadata": {},
   "outputs": [],
   "source": [
    "response = a_api.create_contractual_party(legal_entity=\"Advertima\")\n",
    "a_cp_id=response['id']"
   ]
  },
  {
   "cell_type": "code",
   "execution_count": 7,
   "metadata": {},
   "outputs": [],
   "source": [
    "response = u_api.create_contractual_party(legal_entity=\"Migros\")\n",
    "u_cp_id=response['id']"
   ]
  },
  {
   "cell_type": "code",
   "execution_count": 8,
   "metadata": {},
   "outputs": [
    {
     "data": {
      "text/plain": [
       "(51, 52)"
      ]
     },
     "execution_count": 8,
     "metadata": {},
     "output_type": "execute_result"
    }
   ],
   "source": [
    "a_cp_id, u_cp_id"
   ]
  },
  {
   "cell_type": "markdown",
   "metadata": {},
   "source": [
    "### Create a ***Contract***"
   ]
  },
  {
   "cell_type": "code",
   "execution_count": 9,
   "metadata": {},
   "outputs": [
    {
     "data": {
      "text/plain": [
       "{'other_party_role': 'Publisher', 'other_party': 51, 'id': 23}"
      ]
     },
     "execution_count": 9,
     "metadata": {},
     "output_type": "execute_result"
    }
   ],
   "source": [
    "a_api.create_contract(other_party_id=a_cp_id, other_party_role='Publisher')"
   ]
  },
  {
   "cell_type": "code",
   "execution_count": 10,
   "metadata": {},
   "outputs": [
    {
     "data": {
      "text/plain": [
       "{'other_party_role': 'Publisher', 'other_party': 52, 'id': 24}"
      ]
     },
     "execution_count": 10,
     "metadata": {},
     "output_type": "execute_result"
    }
   ],
   "source": [
    "u_api.create_contract(other_party_id=u_cp_id, other_party_role='Publisher')"
   ]
  },
  {
   "cell_type": "markdown",
   "metadata": {},
   "source": [
    "### Try to create an illegal ***Contract***"
   ]
  },
  {
   "cell_type": "code",
   "execution_count": 11,
   "metadata": {},
   "outputs": [
    {
     "name": "stdout",
     "output_type": "stream",
     "text": [
      "<Response [403]>\n",
      "{'detail': 'You are not an administrator of contractual party.'}\n"
     ]
    }
   ],
   "source": [
    "response = u_api.create_contract(other_party_id=a_cp_id, other_party_role='Publisher')"
   ]
  },
  {
   "cell_type": "code",
   "execution_count": null,
   "metadata": {},
   "outputs": [],
   "source": []
  }
 ],
 "metadata": {
  "kernelspec": {
   "display_name": "Python 3",
   "language": "python",
   "name": "python3"
  },
  "language_info": {
   "codemirror_mode": {
    "name": "ipython",
    "version": 3
   },
   "file_extension": ".py",
   "mimetype": "text/x-python",
   "name": "python",
   "nbconvert_exporter": "python",
   "pygments_lexer": "ipython3",
   "version": "3.7.5"
  },
  "pycharm": {
   "stem_cell": {
    "cell_type": "raw",
    "source": [],
    "metadata": {
     "collapsed": false
    }
   }
  }
 },
 "nbformat": 4,
 "nbformat_minor": 4
}